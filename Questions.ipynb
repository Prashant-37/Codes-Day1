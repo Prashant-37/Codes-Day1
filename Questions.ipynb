{
 "cells": [
  {
   "cell_type": "code",
   "execution_count": 33,
   "id": "e61b844c",
   "metadata": {},
   "outputs": [
    {
     "name": "stdout",
     "output_type": "stream",
     "text": [
      "* * * * * * \n",
      "\n",
      "* * * * * \n",
      "\n",
      "* * * * \n",
      "\n",
      "* * * \n",
      "\n",
      "* * \n",
      "\n",
      "* \n",
      "\n",
      "\n",
      "\n"
     ]
    }
   ],
   "source": [
    "n = 6\n",
    "for i in range(n,-1,-1):\n",
    "    for j in range(0,i,+1):\n",
    "        print('* ',end=\"\")\n",
    "        \n",
    "    print(\"\\n\")\n",
    "        \n",
    "\n",
    "        "
   ]
  },
  {
   "cell_type": "code",
   "execution_count": 6,
   "id": "671ce997",
   "metadata": {},
   "outputs": [
    {
     "name": "stdout",
     "output_type": "stream",
     "text": [
      "* \n",
      "\n",
      "* * \n",
      "\n",
      "* * * \n",
      "\n",
      "* * * * \n",
      "\n",
      "* * * * * \n",
      "\n"
     ]
    }
   ],
   "source": [
    "n = 5\n",
    "    \n",
    "for i in range(0,n):\n",
    "    for j in range(0,i+1):\n",
    "        print(\"* \",end=\"\")\n",
    "        \n",
    "    print(\"\\n\")"
   ]
  },
  {
   "cell_type": "code",
   "execution_count": 46,
   "id": "116dffaf",
   "metadata": {},
   "outputs": [
    {
     "name": "stdout",
     "output_type": "stream",
     "text": [
      "Adepu\n",
      "A, e, u, "
     ]
    }
   ],
   "source": [
    "#INPUT ANY STRING VALUE AND CHECK FOR VOWELS IN STRING AND PRINT VOWELS ONLY\n",
    "string = input()\n",
    "def Vowels(string):\n",
    "    for char in string:\n",
    "        if char in \"AaEeIiOoUu\":\n",
    "            print(char,end=\", \")\n",
    "\n",
    "Vowels(string)\n",
    "\n",
    "    "
   ]
  },
  {
   "cell_type": "code",
   "execution_count": 25,
   "id": "1b2e1468",
   "metadata": {},
   "outputs": [
    {
     "name": "stdout",
     "output_type": "stream",
     "text": [
      "ADEPU\n"
     ]
    }
   ],
   "source": [
    "string = input()\n",
    "for char in string:\n",
    "    if (ord(char)=='65' or ord(char)=='69' or ord(char)=='73' or ord(char)=='79' or ord(char)=='85'):\n"
   ]
  },
  {
   "cell_type": "code",
   "execution_count": 28,
   "id": "0006dade",
   "metadata": {},
   "outputs": [
    {
     "name": "stdout",
     "output_type": "stream",
     "text": [
      "hjoifjpwkop\n"
     ]
    }
   ],
   "source": [
    "string = input()\n"
   ]
  },
  {
   "cell_type": "code",
   "execution_count": 36,
   "id": "cf05ea9c",
   "metadata": {},
   "outputs": [
    {
     "data": {
      "text/plain": [
       "104"
      ]
     },
     "execution_count": 36,
     "metadata": {},
     "output_type": "execute_result"
    }
   ],
   "source": [
    "ord('h')"
   ]
  },
  {
   "cell_type": "code",
   "execution_count": 28,
   "id": "151c1ef6",
   "metadata": {},
   "outputs": [
    {
     "name": "stdout",
     "output_type": "stream",
     "text": [
      "Adepu\n",
      "Aeu"
     ]
    }
   ],
   "source": [
    "string = input()\n",
    "def Vowels(string):\n",
    "    for char in string:\n",
    "        if (ord(char)==65 or ord(char)==69 or ord(char)==73 or ord(char)==79 or ord(char)==85 or ord(char)==97 or ord(char)==101 or ord(char)==105 or ord(char)==111 or ord(char)==117):\n",
    "            print(char,end=\"\")\n",
    "        \n",
    "Vowels(string)\n",
    "        "
   ]
  },
  {
   "cell_type": "code",
   "execution_count": 31,
   "id": "af272b2e",
   "metadata": {},
   "outputs": [
    {
     "name": "stdout",
     "output_type": "stream",
     "text": [
      "{'Name': 'Prashant', 'Age': 19, 'Gender': 'Male'}\n"
     ]
    }
   ],
   "source": [
    "dict = {\n",
    "    \"Name\": \"Prashant\", \"Age\": 19, \"Gender\": \"Male\"\n",
    "}\n",
    "print(dict)"
   ]
  },
  {
   "cell_type": "code",
   "execution_count": 34,
   "id": "8d59963f",
   "metadata": {},
   "outputs": [
    {
     "name": "stdout",
     "output_type": "stream",
     "text": [
      "19\n"
     ]
    }
   ],
   "source": [
    "print(dict[\"Age\"])"
   ]
  },
  {
   "cell_type": "code",
   "execution_count": 15,
   "id": "9dcd13db",
   "metadata": {},
   "outputs": [],
   "source": [
    "cont = {}\n",
    "def add_cont(Name,Ph):\n",
    "    if Name not in cont:\n",
    "        cont[Name] = Ph\n",
    "    else:\n",
    "        print(\"Cont existed\")      \n",
    "        \n",
    "add_cont('bhsrgdf',94322333333)\n",
    "        "
   ]
  },
  {
   "cell_type": "code",
   "execution_count": 16,
   "id": "397889b8",
   "metadata": {},
   "outputs": [
    {
     "data": {
      "text/plain": [
       "94322333333"
      ]
     },
     "execution_count": 16,
     "metadata": {},
     "output_type": "execute_result"
    }
   ],
   "source": [
    "cont['bhsrgdf']"
   ]
  },
  {
   "cell_type": "code",
   "execution_count": 17,
   "id": "f85de062",
   "metadata": {},
   "outputs": [],
   "source": [
    "add_cont('ram',943223)"
   ]
  },
  {
   "cell_type": "code",
   "execution_count": 18,
   "id": "640de581",
   "metadata": {},
   "outputs": [],
   "source": [
    "add_cont('rddd',94322453)"
   ]
  },
  {
   "cell_type": "code",
   "execution_count": 19,
   "id": "34a1e87f",
   "metadata": {},
   "outputs": [
    {
     "data": {
      "text/plain": [
       "{'bhsrgdf': 94322333333, 'ram': 943223, 'rddd': 94322453}"
      ]
     },
     "execution_count": 19,
     "metadata": {},
     "output_type": "execute_result"
    }
   ],
   "source": [
    "cont"
   ]
  },
  {
   "cell_type": "code",
   "execution_count": null,
   "id": "df59c339",
   "metadata": {},
   "outputs": [],
   "source": []
  },
  {
   "cell_type": "code",
   "execution_count": 1,
   "id": "536eb62e",
   "metadata": {},
   "outputs": [
    {
     "name": "stdout",
     "output_type": "stream",
     "text": [
      "Ram 9956\n"
     ]
    }
   ],
   "source": [
    "Contacts = {'Ram':9956,'iou':595456,'jkl':8984}\n",
    "\n",
    "def search(Name):\n",
    "    if Name in Contacts:\n",
    "        print(Name,Contacts[Name])\n",
    "    else:\n",
    "        print(\"Record not found\")\n",
    "search('Ram')"
   ]
  },
  {
   "cell_type": "code",
   "execution_count": 5,
   "id": "e153c898",
   "metadata": {},
   "outputs": [
    {
     "name": "stdout",
     "output_type": "stream",
     "text": [
      "Record not found\n"
     ]
    }
   ],
   "source": [
    "#new = input()\n",
    "def modify(Name):\n",
    "    if Name in Contacts:\n",
    "        Contacts[Name] = new\n",
    "        print(Name,Contacts[Name])\n",
    "    else:\n",
    "        print(\"Record not found\")\n",
    "        \n",
    "modify('Ram')\n"
   ]
  },
  {
   "cell_type": "code",
   "execution_count": 4,
   "id": "70bd6928",
   "metadata": {},
   "outputs": [
    {
     "name": "stdout",
     "output_type": "stream",
     "text": [
      "Ram  Deleted Successfully\n"
     ]
    }
   ],
   "source": [
    "\n",
    "def deleteContact(name):\n",
    "    if name in Contacts:\n",
    "        del Contacts[name]\n",
    "        print(name,' Deleted Successfully')\n",
    "    else:\n",
    "        print(name,' Not present')\n",
    "    return\n",
    "deleteContact('Ram')"
   ]
  },
  {
   "cell_type": "code",
   "execution_count": null,
   "id": "76646b45",
   "metadata": {},
   "outputs": [],
   "source": [
    "Contacts"
   ]
  },
  {
   "cell_type": "code",
   "execution_count": null,
   "id": "4bf34d23",
   "metadata": {},
   "outputs": [],
   "source": []
  }
 ],
 "metadata": {
  "kernelspec": {
   "display_name": "Python 3 (ipykernel)",
   "language": "python",
   "name": "python3"
  },
  "language_info": {
   "codemirror_mode": {
    "name": "ipython",
    "version": 3
   },
   "file_extension": ".py",
   "mimetype": "text/x-python",
   "name": "python",
   "nbconvert_exporter": "python",
   "pygments_lexer": "ipython3",
   "version": "3.9.7"
  }
 },
 "nbformat": 4,
 "nbformat_minor": 5
}
